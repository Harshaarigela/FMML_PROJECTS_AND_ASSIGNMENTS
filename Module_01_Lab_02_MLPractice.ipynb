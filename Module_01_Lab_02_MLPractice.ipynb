{
  "nbformat": 4,
  "nbformat_minor": 0,
  "metadata": {
    "colab": {
      "provenance": [],
      "include_colab_link": true
    },
    "kernelspec": {
      "name": "python3",
      "display_name": "Python 3"
    },
    "language_info": {
      "name": "python"
    }
  },
  "cells": [
    {
      "cell_type": "markdown",
      "metadata": {
        "id": "view-in-github",
        "colab_type": "text"
      },
      "source": [
        "<a href=\"https://colab.research.google.com/github/Harshaarigela/FMML_PROJECTS_AND_ASSIGNMENTS/blob/main/Module_01_Lab_02_MLPractice.ipynb\" target=\"_parent\"><img src=\"https://colab.research.google.com/assets/colab-badge.svg\" alt=\"Open In Colab\"/></a>"
      ]
    },
    {
      "cell_type": "markdown",
      "metadata": {
        "id": "3Eu9VZbF01eq"
      },
      "source": [
        "# Machine learning terms and metrics\n",
        "\n",
        "FMML Module 1, Lab 2<br>\n",
        "\n",
        "\n",
        " In this lab, we will show a part of the ML pipeline by extracting features, training and testing"
      ]
    },
    {
      "cell_type": "code",
      "metadata": {
        "id": "8qBvyEem0vLi"
      },
      "source": [
        "import matplotlib.pyplot as plt\n",
        "import numpy as np\n",
        "from sklearn import datasets\n",
        "# set randomseed\n",
        "rng = np.random.default_rng(seed=42)"
      ],
      "execution_count": 2,
      "outputs": []
    },
    {
      "cell_type": "markdown",
      "metadata": {
        "id": "u3t59g5s1HfC"
      },
      "source": [
        "In this lab, we will use the California Housing dataset. There are 20640 samples, each with 8 attributes like income of the block, age of the houses per district etc. The task is to predict the cost of the houses per district.\n",
        "\n",
        "Let us download and examine the dataset."
      ]
    },
    {
      "cell_type": "code",
      "metadata": {
        "id": "8LpqjN991GGJ",
        "colab": {
          "base_uri": "https://localhost:8080/"
        },
        "outputId": "2bdeda79-287a-4546-88d6-95b5031494a4"
      },
      "source": [
        " dataset =  datasets.fetch_california_housing()\n",
        " # print(dataset.DESCR)  # uncomment this if you want to know more about this dataset\n",
        " # print(dataset.keys())  # if you want to know what else is there in this dataset\n",
        " dataset.target = dataset.target.astype(np.int) # so that we can classify\n",
        " print(dataset.data.shape)\n",
        " print(dataset.target.shape)"
      ],
      "execution_count": 3,
      "outputs": [
        {
          "output_type": "stream",
          "name": "stdout",
          "text": [
            "(20640, 8)\n",
            "(20640,)\n"
          ]
        },
        {
          "output_type": "stream",
          "name": "stderr",
          "text": [
            "<ipython-input-3-60ae2e9a125e>:4: DeprecationWarning: `np.int` is a deprecated alias for the builtin `int`. To silence this warning, use `int` by itself. Doing this will not modify any behavior and is safe. When replacing `np.int`, you may wish to use e.g. `np.int64` or `np.int32` to specify the precision. If you wish to review your current use, check the release note link for additional information.\n",
            "Deprecated in NumPy 1.20; for more details and guidance: https://numpy.org/devdocs/release/1.20.0-notes.html#deprecations\n",
            "  dataset.target = dataset.target.astype(np.int) # so that we can classify\n"
          ]
        }
      ]
    },
    {
      "cell_type": "markdown",
      "metadata": {
        "id": "iNx4174W5xRg"
      },
      "source": [
        "Here is a function for calculating the 1-nearest neighbours"
      ]
    },
    {
      "cell_type": "code",
      "metadata": {
        "id": "07zpydQj1hIQ"
      },
      "source": [
        "def NN1(traindata, trainlabel, query):\n",
        "  diff  = traindata - query  # find the difference between features. Numpy automatically takes care of the size here\n",
        "  sq = diff*diff # square the differences\n",
        "  dist = sq.sum(1) # add up the squares\n",
        "  label = trainlabel[np.argmin(dist)] # our predicted label is the label of the training data which has the least distance from the query\n",
        "  return label\n",
        "\n",
        "def NN(traindata, trainlabel, testdata):\n",
        "  # we will run nearest neighbour for each sample in the test data\n",
        "  # and collect the predicted classes in an array using list comprehension\n",
        "  predlabel = np.array([NN1(traindata, trainlabel, i) for i in testdata])\n",
        "  return predlabel"
      ],
      "execution_count": 4,
      "outputs": []
    },
    {
      "cell_type": "markdown",
      "metadata": {
        "id": "03JktkfIGaje"
      },
      "source": [
        "We will also define a 'random classifier', which randomly allots labels to each sample"
      ]
    },
    {
      "cell_type": "code",
      "metadata": {
        "id": "fogWAtjyGhAH"
      },
      "source": [
        "def RandomClassifier(traindata, trainlabel, testdata):\n",
        "  # in reality, we don't need these arguments\n",
        "\n",
        "  classes = np.unique(trainlabel)\n",
        "  rints = rng.integers(low=0, high=len(classes), size=len(testdata))\n",
        "  predlabel = classes[rints]\n",
        "  return predlabel"
      ],
      "execution_count": 5,
      "outputs": []
    },
    {
      "cell_type": "markdown",
      "metadata": {
        "id": "1Hjf1KHs7fU5"
      },
      "source": [
        "Let us define a metric 'Accuracy' to see how good our learning algorithm is. Accuracy is the ratio of the number of correctly classified samples to the total number of samples. The higher the accuracy, the better the algorithm."
      ]
    },
    {
      "cell_type": "code",
      "metadata": {
        "id": "ouuCqWU07bz-"
      },
      "source": [
        "def Accuracy(gtlabel, predlabel):\n",
        "  assert len(gtlabel)==len(predlabel), \"Length of the groundtruth labels and predicted labels should be the same\"\n",
        "  correct = (gtlabel==predlabel).sum() # count the number of times the groundtruth label is equal to the predicted label.\n",
        "  return correct/len(gtlabel)"
      ],
      "execution_count": 6,
      "outputs": []
    },
    {
      "cell_type": "markdown",
      "metadata": {
        "id": "4vJFwBFa9Klw"
      },
      "source": [
        "Let us make a function to split the dataset with the desired probability."
      ]
    },
    {
      "cell_type": "code",
      "metadata": {
        "id": "Ko0VzpSM2Tdi"
      },
      "source": [
        "def split(data, label, percent):\n",
        "  # generate a random number for each sample\n",
        "  rnd = rng.random(len(label))\n",
        "  split1 = rnd<percent\n",
        "  split2 = rnd>=percent\n",
        "  split1data = data[split1,:]\n",
        "  split1label = label[split1]\n",
        "  split2data = data[split2,:]\n",
        "  split2label = label[split2]\n",
        "  return split1data, split1label, split2data, split2label"
      ],
      "execution_count": 7,
      "outputs": []
    },
    {
      "cell_type": "markdown",
      "metadata": {
        "id": "AcK3LEAJ_LGC"
      },
      "source": [
        "We will reserve 20% of our dataset as the test set. We will not change this portion throughout our experiments"
      ]
    },
    {
      "cell_type": "code",
      "metadata": {
        "id": "bBZkHBLJ1iU-",
        "colab": {
          "base_uri": "https://localhost:8080/"
        },
        "outputId": "01872322-7716-4ffb-c5e0-1a468149a551"
      },
      "source": [
        "testdata, testlabel, alltraindata, alltrainlabel = split(dataset.data, dataset.target, 20/100)\n",
        "print('Number of test samples = ', len(testlabel))\n",
        "print('Number of other samples = ', len(alltrainlabel))\n",
        "print('Percent of test data = ', len(testlabel)*100/len(dataset.target),'%')"
      ],
      "execution_count": 8,
      "outputs": [
        {
          "output_type": "stream",
          "name": "stdout",
          "text": [
            "Number of test samples =  4144\n",
            "Number of other samples =  16496\n",
            "Percent of test data =  20.07751937984496 %\n"
          ]
        }
      ]
    },
    {
      "cell_type": "markdown",
      "metadata": {
        "id": "a6Ss0Z6IAGNV"
      },
      "source": [
        "## Experiments with splits\n",
        "\n",
        "Let us reserve some of our train data as a validation set"
      ]
    },
    {
      "cell_type": "code",
      "metadata": {
        "id": "WFew2iry_7W7"
      },
      "source": [
        "traindata, trainlabel, valdata, vallabel = split(alltraindata, alltrainlabel, 75/100)"
      ],
      "execution_count": 9,
      "outputs": []
    },
    {
      "cell_type": "markdown",
      "metadata": {
        "id": "60hiu4clFN1i"
      },
      "source": [
        "What is the accuracy of our classifiers on the train dataset?"
      ]
    },
    {
      "cell_type": "code",
      "metadata": {
        "id": "DBlZDTHUFTZx",
        "colab": {
          "base_uri": "https://localhost:8080/"
        },
        "outputId": "ea997f71-fbac-4c58-b758-2c1de61ad6b9"
      },
      "source": [
        "trainpred = NN(traindata, trainlabel, traindata)\n",
        "trainAccuracy = Accuracy(trainlabel, trainpred)\n",
        "print(\"Train accuracy using nearest neighbour is \", trainAccuracy)\n",
        "\n",
        "trainpred = RandomClassifier(traindata, trainlabel, traindata)\n",
        "trainAccuracy = Accuracy(trainlabel, trainpred)\n",
        "print(\"Train accuracy using random classifier is \", trainAccuracy)"
      ],
      "execution_count": 10,
      "outputs": [
        {
          "output_type": "stream",
          "name": "stdout",
          "text": [
            "Train accuracy using nearest neighbour is  1.0\n",
            "Train accuracy using random classifier is  0.164375808538163\n"
          ]
        }
      ]
    },
    {
      "cell_type": "markdown",
      "metadata": {
        "id": "7h08-9gJDtSy"
      },
      "source": [
        "For nearest neighbour, the train accuracy is always 1. The accuracy of the random classifier is close to 1/(number of classes) which is 0.1666 in our case.\n",
        "\n",
        "Let us predict the labels for our validation set and get the accuracy"
      ]
    },
    {
      "cell_type": "code",
      "metadata": {
        "id": "4h7bXoW_2H3v",
        "colab": {
          "base_uri": "https://localhost:8080/"
        },
        "outputId": "38cd2221-ebda-42d7-a454-44503f8b605d"
      },
      "source": [
        "valpred = NN(traindata, trainlabel, valdata)\n",
        "valAccuracy = Accuracy(vallabel, valpred)\n",
        "print(\"Validation accuracy using nearest neighbour is \", valAccuracy)\n",
        "\n",
        "valpred = RandomClassifier(traindata, trainlabel, valdata)\n",
        "valAccuracy = Accuracy(vallabel, valpred)\n",
        "print(\"Validation accuracy using random classifier is \", valAccuracy)"
      ],
      "execution_count": 11,
      "outputs": [
        {
          "output_type": "stream",
          "name": "stdout",
          "text": [
            "Validation accuracy using nearest neighbour is  0.34108527131782945\n",
            "Validation accuracy using random classifier is  0.1688468992248062\n"
          ]
        }
      ]
    },
    {
      "cell_type": "markdown",
      "metadata": {
        "id": "py9bLguFEjfg"
      },
      "source": [
        "Validation accuracy of nearest neighbour is considerably less than its train accuracy while the validation accuracy of random classifier is the same. However, the validation accuracy of nearest neighbour is twice that of the random classifier.\n",
        "\n",
        "Now let us try another random split and check the validation accuracy"
      ]
    },
    {
      "cell_type": "code",
      "metadata": {
        "id": "ujm3cyYzEntE",
        "colab": {
          "base_uri": "https://localhost:8080/"
        },
        "outputId": "3dd7b92c-9f57-42f0-9065-9fda601d8467"
      },
      "source": [
        "traindata, trainlabel, valdata, vallabel = split(alltraindata, alltrainlabel, 75/100)\n",
        "valpred = NN(traindata, trainlabel, valdata)\n",
        "valAccuracy = Accuracy(vallabel, valpred)\n",
        "print(\"Validation accuracy of nearest neighbour is \", valAccuracy)"
      ],
      "execution_count": 12,
      "outputs": [
        {
          "output_type": "stream",
          "name": "stdout",
          "text": [
            "Validation accuracy of nearest neighbour is  0.34048257372654156\n"
          ]
        }
      ]
    },
    {
      "cell_type": "markdown",
      "metadata": {
        "id": "oSOx7U83EKie"
      },
      "source": [
        "You can run the above cell multiple times to try with different random splits.\n",
        "We notice that the accuracy is different for each run, but close together.\n",
        "\n",
        "Now let us compare it with the accuracy we get on the test dataset."
      ]
    },
    {
      "cell_type": "code",
      "metadata": {
        "id": "PNEZ5ToYBEDW",
        "colab": {
          "base_uri": "https://localhost:8080/"
        },
        "outputId": "96dc0d52-33cd-4873-81b2-0d9f5d411389"
      },
      "source": [
        "testpred = NN(alltraindata, alltrainlabel, testdata)\n",
        "testAccuracy = Accuracy(testlabel, testpred)\n",
        "print('Test accuracy is ', testAccuracy)"
      ],
      "execution_count": 13,
      "outputs": [
        {
          "output_type": "stream",
          "name": "stdout",
          "text": [
            "Test accuracy is  0.34917953667953666\n"
          ]
        }
      ]
    },
    {
      "cell_type": "markdown",
      "metadata": {
        "id": "w3dGD531K3gH"
      },
      "source": [
        "### Try it out for yourself and answer:\n",
        "1. How is the accuracy of the validation set affected if we increase the percentage of validation set? What happens when we reduce it?\n",
        "2. How does the size of the train and validation set affect how well we can predict the accuracy on the test set using the validation set?\n",
        "3. What do you think is a good percentage to reserve for the validation set so that thest two factors are balanced?\n",
        "\n",
        "Answer for both nearest neighbour and random classifier. You can note down the values for your experiments and plot a graph using  <a href=https://matplotlib.org/stable/gallery/lines_bars_and_markers/step_demo.html#sphx-glr-gallery-lines-bars-and-markers-step-demo-py>plt.plot<href>. Check also for extreme values for splits, like 99.9% or 0.1%"
      ]
    },
    {
      "cell_type": "markdown",
      "metadata": {
        "id": "PnYvkAZLQY7h"
      },
      "source": [
        "## Multiple Splits\n",
        "\n",
        "One way to get more accurate estimates for the test accuracy is by using <b>crossvalidation</b>. Here, we will try a simple version, where we do multiple train/val splits and take the average of validation accuracies as the test accuracy estimation. Here is a function for doing this. Note that this function will take a long time to execute."
      ]
    },
    {
      "cell_type": "code",
      "metadata": {
        "id": "E4nGCUQXBTzo"
      },
      "source": [
        "# you can use this function for random classifier also\n",
        "def AverageAccuracy(alldata, alllabel, splitpercent, iterations, classifier=NN):\n",
        "  accuracy = 0\n",
        "  for ii in range(iterations):\n",
        "    traindata, trainlabel, valdata, vallabel = split(alldata, alllabel, splitpercent)\n",
        "    valpred = classifier(traindata, trainlabel, valdata)\n",
        "    accuracy += Accuracy(vallabel, valpred)\n",
        "  return accuracy/iterations # average of all accuracies"
      ],
      "execution_count": 14,
      "outputs": []
    },
    {
      "cell_type": "code",
      "metadata": {
        "id": "H3qtNar7Bbik",
        "colab": {
          "base_uri": "https://localhost:8080/"
        },
        "outputId": "c1caa13c-3f81-4a70-9814-8b98aa7b2852"
      },
      "source": [
        "print('Average validation accuracy is ', AverageAccuracy(alltraindata, alltrainlabel, 75/100, 10, classifier=NN))\n",
        "testpred = NN(alltraindata, alltrainlabel, testdata)\n",
        "print('test accuracy is ',Accuracy(testlabel, testpred) )"
      ],
      "execution_count": 15,
      "outputs": [
        {
          "output_type": "stream",
          "name": "stdout",
          "text": [
            "Average validation accuracy is  0.33584635395170215\n",
            "test accuracy is  0.34917953667953666\n"
          ]
        }
      ]
    },
    {
      "cell_type": "markdown",
      "metadata": {
        "id": "33GIn4x5VH-d"
      },
      "source": [
        "This is a very simple way of doing cross-validation. There are many well-known algorithms for cross-validation, like k-fold cross-validation, leave-one-out etc. This will be covered in detail in a later module. For more information about cross-validation, check <a href=https://en.wikipedia.org/wiki/Cross-validation_(statistics)>Cross-validatioin (Wikipedia)</a>\n",
        "\n",
        "### Questions\n",
        "1. Does averaging the validation accuracy across multiple splits give more consistent results?\n",
        "\n",
        "answer ;Averaging validation accuracy across multiple splits of your dataset can indeed provide more consistent and robust results when evaluating the performance of a machine learning model. This technique is commonly known as cross-validation, and it helps address some of the variability and bias that can arise when assessing a model's performance on a single train-test split. Here's why it can lead to more consistent results:\n",
        "\n",
        "Reduced Variance: When you split your data into multiple subsets (folds) and evaluate your model on each of them, you get multiple estimates of your model's performance. Averaging these estimates helps reduce the variance in your evaluation. This can be particularly important when dealing with small or noisy datasets, where a single split can lead to widely varying results.\n",
        "\n",
        "Mitigating Bias: In a single train-test split, there's a chance that the split itself may introduce bias into the evaluation. Cross-validation helps mitigate this bias by assessing the model's performance across multiple different data partitions, making it more representative of the true performance.\n",
        "\n",
        "Better Generalization: Averaging the results from multiple splits provides a more accurate estimate of how well your model is likely to perform on unseen data. This is particularly valuable for assessing a model's generalization capabilities.\n",
        "\n",
        "Model Selection: Cross-validation is often used for hyperparameter tuning and model selection. By comparing the performance of different models or parameter settings across multiple splits, you can make more informed choices.\n",
        "\n",
        "There are various types of cross-validation techniques, such as k-fold cross-validation, stratified k-fold cross-validation, leave-one-out cross-validation, and more. The choice of which type to use depends on your specific dataset and problem. For example, k-fold cross-validation splits the data into 'k' equally sized folds, while stratified k-fold ensures that each fold has a similar class distribution to the original dataset, which is particularly useful for imbalanced datasets.\n",
        "\n",
        "In summary, averaging validation accuracy across multiple splits, as done in cross-validation, is a good practice to obtain more reliable and consistent estimates of your model's performance. It can help you make better decisions in terms of model selection, hyperparameter tuning, and assessing the generalization capability of your machine learning model.\n",
        "2. Does it give more accurate estimate of test accuracy?\n",
        "\n",
        "answer ; ross-validation, such as k-fold cross-validation, provides a more accurate estimate of test accuracy compared to a single train-test split. Here's why:\n",
        "\n",
        "Reduced Variance: Cross-validation helps reduce the variance in the performance estimate. In a single train-test split, the specific data points included in the test set can have a significant impact on the observed performance. Cross-validation averages the results of multiple test sets, which helps stabilize the estimate by reducing the impact of any random variation in data partitioning.\n",
        "\n",
        "Mitigating Bias: A single train-test split can introduce bias if the data is not representative or is distributed unevenly between classes. Cross-validation helps mitigate this bias by using multiple partitions of the data, making the evaluation more robust and representative.\n",
        "\n",
        "Better Generalization: By using cross-validation, you obtain a more accurate estimate of how well your model is likely to perform on unseen data, which is crucial for assessing its generalization capabilities.\n",
        "\n",
        "Model Selection and Hyperparameter Tuning: Cross-validation is often used for model selection and hyperparameter tuning. It allows you to compare the performance of different models or parameter settings across multiple data splits, helping you make more informed decisions.\n",
        "\n",
        "Efficient Use of Data: Cross-validation utilizes your data more efficiently. In a single train-test split, a portion of your data is reserved for testing, while cross-validation ensures that every data point is used for both training and testing, resulting in a more effective use of your dataset.\n",
        "\n",
        "While cross-validation provides a more accurate estimate of test accuracy, it's important to keep in mind that the estimate is still based on the same dataset. For a truly independent measure of performance, you'll need to evaluate your model on a completely new and unseen dataset, which is often referred to as a \"holdout test set.\"\n",
        "\n",
        "In summary, cross-validation is a valuable technique for obtaining more accurate and reliable estimates of a model's test accuracy, reducing variance and bias in the evaluation, and supporting model selection and hyperparameter tuning.\n",
        "3. What is the effect of the number of iterations on the estimate? Do we get a better estimate with higher iterations?\n",
        "\n",
        " answerr; The number of iterations, particularly in the context of machine learning, typically refers to the number of training iterations or epochs when training a model. The effect of the number of iterations on the estimate of a model's performance depends on the specific machine learning algorithm and task. Here are some key considerations:\n",
        "\n",
        "Underfitting and Overfitting: The number of iterations can have a significant impact on a model's performance. If you have too few iterations, your model may underfit the data, failing to capture the underlying patterns. Conversely, if you have too many iterations, your model may overfit the data, learning noise or specific details in the training data that do not generalize well to new, unseen data.\n",
        "\n",
        "Validation Performance: It's common to monitor the model's performance on a validation set during training. Initially, as the number of iterations increases, the model's validation performance may improve, indicating that it is learning the underlying patterns. However, at a certain point, the model's performance on the validation set may start to degrade due to overfitting.\n",
        "\n",
        "Early Stopping: To address the risk of overfitting, practitioners often use techniques like early stopping, where the training is halted when the model's performance on the validation set begins to deteriorate. This allows the model to avoid excessive iterations that could lead to overfitting.\n",
        "\n",
        "Learning Rate and Convergence: The choice of learning rate and convergence criteria is also crucial. In some cases, a lower learning rate may require more iterations for convergence. The convergence criteria (e.g., a small change in loss) may determine when to stop training.\n",
        "\n",
        "Complexity of the Model: More complex models, such as deep neural networks, may require a larger number of iterations to reach their optimal performance. However, they are also more prone to overfitting, so finding the right balance is essential.\n",
        "\n",
        "Amount of Data: The size of your dataset can influence the number of iterations required. Smaller datasets may require fewer iterations, while larger datasets may require more iterations for the model to converge.\n",
        "\n",
        "Regularization: Regularization techniques, such as L1 or L2 regularization, can affect the number of iterations required for convergence and influence the model's generalization.\n",
        "\n",
        "In summary, there is no universal rule that more iterations always lead to a better estimate of a model's performance. The optimal number of iterations is task-dependent and must be determined through experimentation and validation. It's essential to strike a balance between training long enough to learn the underlying patterns and avoiding overfitting. Monitoring validation performance and using techniques like early stopping can help you find the right number of iterations for your specific machi\n",
        "4. Consider the results you got for the previous questions. Can we deal with a very small train dataset or validation dataset by increasing the iterations?\n",
        "answer ; Increasing the number of iterations during training is not a guaranteed solution to dealing with a very small training dataset or validation dataset. While more iterations may help a model learn more from the limited data available, it can also lead to overfitting and other challenges. Here are some considerations:\n",
        "\n",
        "Overfitting: With a very small training dataset, increasing the number of iterations can lead to overfitting. The model may start to memorize the training data rather than learning generalizable patterns. As a result, its performance on the validation dataset may degrade.\n",
        "\n",
        "Noise Amplification: In a small dataset, there may be noise or outliers that the model can pick up. More iterations can amplify the impact of noise, making the model less robust to variations in the data.\n",
        "\n",
        "Validation Set Size: The size of the validation dataset also matters. If the validation dataset is very small, it may not provide a reliable estimate of the model's generalization performance, regardless of the number of training iterations.\n",
        "\n",
        "Early Stopping: To mitigate overfitting, it's important to monitor the model's performance on a validation dataset during training. You may need to use early stopping to halt training when the model's performance starts to deteriorate on the validation set, even if you haven't reached a predefined maximum number of iterations.\n",
        "\n",
        "Regularization: Consider using regularization techniques like L1 or L2 regularization, dropout, or weight decay to help prevent overfitting when dealing with small datasets. These techniques can be more effective than increasing iterations.\n",
        "\n",
        "Data Augmentation: If you have a very small training dataset, data augmentation techniques can be beneficial. Data augmentation involves creating new training examples by applying transformations, rotations, or other modifications to the existing data, effectively increasing the size of your training set.\n",
        "\n",
        "Transfer Learning: In some cases, you can leverage pre-trained models on larger datasets and fine-tune them on your small dataset. Transfer learning can be a powerful approach when you have limited training data.\n",
        "\n",
        "In conclusion, while increasing the number of iterations may help a model learn more from a small dataset, it should be done cautiously to avoid overfitting. It's crucial to monitor the model's performance on a separate validation dataset and use techniques like early stopping and regularization to ensure the model generalizes well. In cases of extremely small datasets, exploring methods like data augmentation and transfer learning may be more effective than relying solely on increasing iterations.\n"
      ]
    }
  ]
}